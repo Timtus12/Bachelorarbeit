{
 "cells": [
  {
   "attachments": {},
   "cell_type": "markdown",
   "metadata": {},
   "source": [
    "# Basics"
   ]
  },
  {
   "cell_type": "code",
   "execution_count": 32,
   "metadata": {},
   "outputs": [],
   "source": [
    "# Packages / Scripts\n",
    "\n",
    "import numpy as np\n",
    "import pandas as pd\n",
    "from numpyClone import *\n",
    "from scipy.stats import linregress\n",
    "import matplotlib.pyplot as plt\n",
    "from niceboxplot import *\n",
    "\n",
    "# Datenstrukturen\n",
    "\n",
    "int_ = 1\n",
    "float_ = 0.1\n",
    "list_ = [1,2,3]  # [el1,el2,el3]\n",
    "el1 = list_[0]\n",
    "str_ = \"sdlfkjsd\"\n",
    "str1_ = str_[0]\n",
    "dic_ = {\"key\":\"value\"}\n",
    "value = dic_[\"key\"] \n",
    "\n",
    "def someFunction(par1, par2):\n",
    "    out = par1 + par2\n",
    "    return out\n",
    "\n",
    "o = someFunction(1,2)\n",
    "\n",
    "class SomeClass():\n",
    "    def __init__(self) -> None:\n",
    "        pass\n",
    "    def someFuncOfThisCalss(self,par1):\n",
    "        return par1+par1\n",
    "\n",
    "ourClass = SomeClass()\n",
    "out = ourClass.someFuncOfThisCalss(1)\n"
   ]
  },
  {
   "attachments": {},
   "cell_type": "markdown",
   "metadata": {},
   "source": [
    "# Auswertung"
   ]
  },
  {
   "cell_type": "markdown",
   "metadata": {},
   "source": [
    "## Vorarbeit zum Plotten"
   ]
  },
  {
   "attachments": {},
   "cell_type": "markdown",
   "metadata": {},
   "source": [
    "### Benötigte Pakete\n",
    "\n",
    "1. Pandas -> Tabellen\n",
    "2. Numpy -> Wissenschaftliches Rechnen, zb. durschnitt, min, max etc...\n",
    "3. Scipy -> Statistik\n",
    "4. Re (regularExpressions) -> Pattern matching, zb. ist eine/welche Zahl in str: \"> 1 Jahr\"\n",
    "5. niceboxplot -> Boxplots und Statistik\n",
    "\n",
    "### Vokabel:\n",
    "Numpy und Pandas ergänzen die Funktionalität von Listen\n",
    "Liste -> 1 Dimensionales Array (1D array)\n",
    "Tabelle -> 2D array"
   ]
  },
  {
   "cell_type": "code",
   "execution_count": 27,
   "metadata": {},
   "outputs": [
    {
     "name": "stdout",
     "output_type": "stream",
     "text": [
      "numpy minimum von Liste:1\n",
      "numpyClone minimum von Liste:0\n",
      "LinregressResult(slope=0.9174757281553396, intercept=2.718446601941748, rvalue=0.9086958541447219, pvalue=4.2799827961418516e-05, stderr=0.13328757030345498, intercept_stderr=0.6989659154268235)\n"
     ]
    }
   ],
   "source": [
    "# Pandas: Tabellen pd.DataFrame und Listen pd.Series\n",
    "df = pd.DataFrame({\"col1\":[1,2,3],\"col2\":[4,5,6]}) # elemente können alle datenstrukturen sein, meist int/float/str\n",
    "ser = pd.Series([1,2,3])\n",
    "\n",
    "# Numpy: np.min()\n",
    "someList = [1,2,4]\n",
    "print( \"numpy minimum von Liste:\" + str(np.min(someList)) )\n",
    "print( \"numpyClone minimum von Liste:\" + str(NumpyClone.min(someList)) )\n",
    "\n",
    "# Scipy: linregress -> linearregression, Korrelieren zwei 1D arrays\n",
    "arr1 = [2,4,1,2,3,6,7,4,5,8,9,5]\n",
    "arr2 = [i+np.random.randint(1,5) for i in arr1]\n",
    "regressionResult = linregress(arr1,arr2)\n",
    "print(regressionResult)"
   ]
  },
  {
   "cell_type": "code",
   "execution_count": 31,
   "metadata": {},
   "outputs": [
    {
     "data": {
      "image/png": "[encoded data removed]",
      "text/plain": [
       "<Figure size 640x480 with 1 Axes>"
      ]
     },
     "metadata": {},
     "output_type": "display_data"
    }
   ],
   "source": [
    "fig = plt.figure()\n",
    "ax = fig.add_subplot(111)\n",
    "\n",
    "ax.scatter(arr1,arr2)\n",
    "ax.plot(\n",
    "    arr1,\n",
    "    [regressionResult.slope * x + regressionResult.intercept for x in arr1]\n",
    ")\n",
    "\n",
    "plt.show()"
   ]
  },
  {
   "cell_type": "code",
   "execution_count": 40,
   "metadata": {},
   "outputs": [
    {
     "name": "stdout",
     "output_type": "stream",
     "text": [
      "(            Pop1  Pop2\n",
      "mean    4.666667  7.00\n",
      "median  4.500000  7.50\n",
      "75      6.250000  9.00\n",
      "25      2.750000  5.75,                                  Shapiro Statistic  \\\n",
      "Pop1-Pop2  0.9666062593460083 | 0.9651990532875061   \n",
      "\n",
      "                                         Shapiro P Levene Statistic Levene P  \\\n",
      "Pop1-Pop2  0.8722118139266968 | 0.8546268343925476              0.0      1.0   \n",
      "\n",
      "          MWU Statistic     MWU P  \n",
      "Pop1-Pop2          36.0  0.039061  )\n"
     ]
    },
    {
     "name": "stderr",
     "output_type": "stream",
     "text": [
      "c:\\Users\\sasch\\OneDrive\\Dokumente\\WanShiTong\\Research\\BATim\\Auswertung\\niceboxplot.py:53: FutureWarning: iteritems is deprecated and will be removed in a future version. Use .items instead.\n",
      "  plot = ax.boxplot([vals.dropna() for col, vals in data.iteritems()],patch_artist=True,widths=[0.2 for i in data.columns])\n"
     ]
    },
    {
     "data": {
      "image/png": "[encoded data removed]",
      "text/plain": [
       "<Figure size 640x480 with 1 Axes>"
      ]
     },
     "metadata": {},
     "output_type": "display_data"
    }
   ],
   "source": [
    "fig = plt.figure()\n",
    "ax = fig.add_subplot(111)\n",
    "\n",
    "results = niceboxplot(\n",
    "    pd.DataFrame({\"Pop1\":arr1,\"Pop2\":arr2}), ax,\n",
    "    compare = [[\"Pop1\",\"Pop2\"]]\n",
    ")\n",
    "print(results)\n",
    "\n",
    "plt.show()"
   ]
  }
 ],
 "metadata": {
  "kernelspec": {
   "display_name": "Python 3",
   "language": "python",
   "name": "python3"
  },
  "language_info": {
   "codemirror_mode": {
    "name": "ipython",
    "version": 3
   },
   "file_extension": ".py",
   "mimetype": "text/x-python",
   "name": "python",
   "nbconvert_exporter": "python",
   "pygments_lexer": "ipython3",
   "version": "3.11.0 (main, Oct 24 2022, 18:26:48) [MSC v.1933 64 bit (AMD64)]"
  },
  "orig_nbformat": 4,
  "vscode": {
   "interpreter": {
    "hash": "99669ab78ddea3f9ade465a9ce9e3104802081d3aa00607df11f422f28b6c800"
   }
  }
 },
 "nbformat": 4,
 "nbformat_minor": 2
}
