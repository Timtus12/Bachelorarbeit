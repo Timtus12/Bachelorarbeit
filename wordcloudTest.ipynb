{
 "cells": [
  {
   "cell_type": "code",
   "execution_count": 2,
   "metadata": {},
   "outputs": [],
   "source": [
    "import matplotlib.pyplot as plt\n",
    "from collections import OrderedDict\n",
    "import numpy as np\n",
    "import pickle\n",
    "import matplotlib.patches as mp"
   ]
  },
  {
   "cell_type": "code",
   "execution_count": 36,
   "metadata": {},
   "outputs": [
    {
     "name": "stdout",
     "output_type": "stream",
     "text": [
      "OrderedDict([('Aggression', 0.3333333333333333), ('Agressionsabbau', 0.3333333333333333), ('Alltag', 0.3333333333333333), ('Alltag/Nachts', 0.3333333333333333), ('Disziplin', 0.3333333333333333), ('Durch', 0.3333333333333333), ('Emotionen', 0.3333333333333333), ('Frust', 0.3333333333333333), ('Gleichgewicht', 0.3333333333333333), ('Gutes', 0.3333333333333333), ('Hilft', 0.3333333333333333), ('Kampfkunst', 0.3333333333333333), ('Körper', 0.3333333333333333), ('Leben', 0.3333333333333333), ('Mehr', 0.3333333333333333), ('Mentale', 0.3333333333333333), ('Personen', 0.3333333333333333), ('Schnellkraft', 0.3333333333333333), ('Selbsbewusst', 0.3333333333333333), ('Selbstbewusstsein', 0.3333333333333333), ('Selbstverteidigung', 1.0), ('Selbstvertrauen', 0.3333333333333333), ('Selbstwertgefühl', 0.3333333333333333), ('Sicherheitsgefühl', 0.3333333333333333), ('Situationen', 0.3333333333333333), ('Stärke', 0.6666666666666666), ('Weiterbildung', 0.3333333333333333), ('Würde', 0.3333333333333333), ('Zudem', 0.3333333333333333), ('alleine', 0.3333333333333333), ('anderem', 0.3333333333333333), ('anderen', 0.3333333333333333), ('anfangen', 0.3333333333333333), ('auch', 0.3333333333333333), ('aufgestauten', 0.3333333333333333), ('ausgeglichener', 0.3333333333333333), ('bekommen', 0.3333333333333333), ('bleiben', 0.3333333333333333), ('einem', 0.3333333333333333), ('etwas', 0.3333333333333333), ('ganzen', 0.3333333333333333), ('gerne', 0.3333333333333333), ('im\\nUmgang', 0.3333333333333333), ('jemand', 0.3333333333333333), ('kann', 0.3333333333333333), ('lernen', 0.3333333333333333), ('mentale', 0.3333333333333333), ('möglich', 0.3333333333333333), ('oder', 0.6666666666666666), ('ohne', 0.3333333333333333), ('rauslassen', 0.3333333333333333), ('schaden', 0.3333333333333333), ('seine', 0.3333333333333333), ('seinen', 0.6666666666666666), ('sich', 0.6666666666666666), ('stattdessen', 0.3333333333333333), ('steigert', 0.3333333333333333), ('wenn', 0.3333333333333333), ('werden', 0.3333333333333333)]) Boxen\n"
     ]
    },
    {
     "data": {
      "image/png": "[encoded data removed]",
      "text/plain": [
       "<Figure size 1000x1000 with 1 Axes>"
      ]
     },
     "metadata": {},
     "output_type": "display_data"
    }
   ],
   "source": [
    "class wordcloud:\n",
    "\n",
    "    def __init__(self,str,ax):\n",
    "        self.ax = ax\n",
    "        self.wordCount, self.wordFreq = self.countWords(str)\n",
    "        self.drawWords(self.wordFreq)\n",
    "        self.styleAxis(ax)\n",
    "    \n",
    "    def similarMeaing(self,str1,l):\n",
    "        for item in l:\n",
    "            for i,(el1,el2) in enumerate(zip(str1,item)):\n",
    "                if i >= 3: print(item,str1); return item\n",
    "                else: return None\n",
    "\n",
    "    def countWords(self,str):\n",
    "        allWords = str.split(\" \")[:100]\n",
    "        allWords = [word.replace(\" \",\"\").replace(\"(\",\"\").replace(\")\",\"\").replace(\".\",\"\").replace(\",\",\"\") for word in allWords]\n",
    "        allWords = [word for word in allWords if len(word)>3]\n",
    "        wordCount = {}\n",
    "        for word in allWords:\n",
    "            if word in wordCount.keys(): wordCount[word] += 1\n",
    "            else:\n",
    "                meaning = self.similarMeaing(word,list(wordCount.keys()))\n",
    "                if meaning!=None: wordCount[meaning] += 1\n",
    "                else: wordCount[word] = 1\n",
    "                        \n",
    "        wordFreq = {}\n",
    "        for word,count in wordCount.items():\n",
    "            wordFreq[word] = count / np.max([i for i in wordCount.values()])\n",
    "        return wordCount, OrderedDict(sorted(wordFreq.items()))\n",
    "\n",
    "    def getTextBoundingBox(self,artist):\n",
    "        r = self.ax.get_figure().canvas.get_renderer()\n",
    "        bb = artist.get_window_extent(renderer=r).transformed(self.ax.transData.inverted())\n",
    "        #ax.add_patch(mp.Rectangle((bb.x0,bb.y0),width=bb.x1-bb.x0,height=bb.y1-bb.y0,color=\"green\"))\n",
    "        return bb\n",
    "\n",
    "    def BBcheck(self,textArtist):\n",
    "        is_blocked = False\n",
    "        for artist in self.ax.get_children():\n",
    "            if artist == textArtist: continue\n",
    "            if type(artist) != type(textArtist): continue\n",
    "            tA_bb = self.getTextBoundingBox(textArtist)\n",
    "            a_bb = self.getTextBoundingBox(artist)\n",
    "            if ((tA_bb.x0 > a_bb.x0) and (tA_bb.x1 < a_bb.x1*2)) and ((tA_bb.y0 > a_bb.y0) and (tA_bb.y1 < a_bb.y1*2)): is_blocked=True\n",
    "        return is_blocked\n",
    "\n",
    "    def drawWords(self,wordDic):\n",
    "        for word,n in wordDic.items():\n",
    "            pos = np.random.random_sample(size=2)\n",
    "            text_item = self.ax.text(*pos,word,fontsize=n*40)\n",
    "            if self.BBcheck(text_item):\n",
    "                newdic = wordDic.copy()\n",
    "                newdic.pop(word)\n",
    "                print(newdic,word)\n",
    "                break\n",
    "                self.drawWords(newdic)\n",
    "    \n",
    "    def styleAxis(self,ax):\n",
    "        ax.set_xlim(-0.1,1.1); ax.set_ylim(-0.1,1.1)\n",
    "        ax.spines.top.set_visible(False); ax.spines.bottom.set_visible(False); ax.spines.left.set_visible(False); ax.spines.right.set_visible(False)\n",
    "        ax.set_xticks([]); ax.set_yticks([])\n",
    "\n",
    "    def set_wordCount(self,wordCount):\n",
    "        self.wordCount = wordCount\n",
    "    def get_wordCount(self):\n",
    "        return self.wordCount\n",
    "\n",
    "with open(\"SQ.p\",\"rb\") as file: SQ = pickle.load(file)\n",
    "strings = list(SQ.iloc[:,-2].dropna())\n",
    "teststr3 = \" \".join(strings)\n",
    "fig = plt.figure(figsize=(10,10))\n",
    "ax = fig.add_subplot(111)\n",
    "cloud = wordcloud(teststr3,ax)\n",
    "plt.show()"
   ]
  },
  {
   "cell_type": "code",
   "execution_count": 19,
   "metadata": {},
   "outputs": [
    {
     "data": {
      "text/plain": [
       "{}"
      ]
     },
     "execution_count": 19,
     "metadata": {},
     "output_type": "execute_result"
    }
   ],
   "source": [
    "cloud.get_wordCount()"
   ]
  }
 ],
 "metadata": {
  "kernelspec": {
   "display_name": "Python 3",
   "language": "python",
   "name": "python3"
  },
  "language_info": {
   "codemirror_mode": {
    "name": "ipython",
    "version": 3
   },
   "file_extension": ".py",
   "mimetype": "text/x-python",
   "name": "python",
   "nbconvert_exporter": "python",
   "pygments_lexer": "ipython3",
   "version": "3.11.0 (main, Oct 24 2022, 18:26:48) [MSC v.1933 64 bit (AMD64)]"
  },
  "orig_nbformat": 4,
  "vscode": {
   "interpreter": {
    "hash": "99669ab78ddea3f9ade465a9ce9e3104802081d3aa00607df11f422f28b6c800"
   }
  }
 },
 "nbformat": 4,
 "nbformat_minor": 2
}
